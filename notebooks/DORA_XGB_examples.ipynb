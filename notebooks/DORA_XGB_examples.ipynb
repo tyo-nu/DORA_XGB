{
 "cells": [
  {
   "cell_type": "markdown",
   "id": "49811760-9143-4116-827e-b9edf5a7adb8",
   "metadata": {},
   "source": [
    "In this notebook, we go through a couple of examples on how to deploy our DORA_XGB reaction feasibility classifiers. We first initialize four different models corresponding to a different cofactor configuration method used to construct reaction fingerprints. Subsequently, our models are deployed for the prediction of reactions in the biosynthesis of propionic acid. Finally, we show how pathway feasibility can be computed simply by taking the product of reaction feasibilities for constituent reactions along a given pathway."
   ]
  },
  {
   "cell_type": "code",
   "execution_count": 1,
   "id": "ac22d726-266e-499b-adbe-5a5f14403d23",
   "metadata": {},
   "outputs": [],
   "source": [
    "from DORA_XGB import DORA_XGB"
   ]
  },
  {
   "cell_type": "markdown",
   "id": "e767a33b-e433-4a2d-a134-a5cf80a21556",
   "metadata": {},
   "source": [
    "**0. [Initializing DORA_XGB feasibility models](#section_0)**\n",
    "\n",
    "**1. [Computing feasibilities of reactions in propionic acid biosynthesis network](#section_1)**\n",
    "\n",
    "**2. [Computing net pathway feasibilities by aggregating reaction feasibilities in a reaction network](#section_2)**"
   ]
  },
  {
   "cell_type": "markdown",
   "id": "a42d9f52-295f-45a4-a985-9dbbde4d57b8",
   "metadata": {},
   "source": [
    "### <a id=\"section_0\"></a>0. Initializing DORA_XGB feasibility models"
   ]
  },
  {
   "cell_type": "code",
   "execution_count": 2,
   "id": "1ac57cd2-5d6b-4d52-ad13-1535887a4450",
   "metadata": {},
   "outputs": [],
   "source": [
    "by_desc_MW_model = DORA_XGB.feasibility_classifier(cofactor_positioning = 'by_descending_MW')\n",
    "by_asc_MW_model = DORA_XGB.feasibility_classifier(cofactor_positioning = 'by_ascending_MW')\n",
    "add_concat_model = DORA_XGB.feasibility_classifier(cofactor_positioning = 'add_concat')\n",
    "add_subtract_model = DORA_XGB.feasibility_classifier(cofactor_positioning = 'add_subtract')"
   ]
  },
  {
   "cell_type": "markdown",
   "id": "fb70acc8-7e67-4d50-9ad0-e14ca35260a1",
   "metadata": {
    "jp-MarkdownHeadingCollapsed": true
   },
   "source": [
    "### <a id=\"section_2\"></a>1. Computing feasibilities of reactions in propionic acid biosynthesis network"
   ]
  },
  {
   "cell_type": "markdown",
   "id": "d58d088b-b4a0-4614-9159-ffc13829bad9",
   "metadata": {},
   "source": [
    "#### Pyruvic acid to Malic acid (r1)"
   ]
  },
  {
   "cell_type": "markdown",
   "id": "b7f50793-ff7d-43fb-ad86-fe1acf0b4bdb",
   "metadata": {},
   "source": [
    "Pyruvic acid + CO2 + NADH >> Malic acid + NAD(+)"
   ]
  },
  {
   "cell_type": "markdown",
   "id": "edf3275e-c962-440b-86e8-5ae5f85a0651",
   "metadata": {},
   "source": [
    "Here, we format the input reaction string in the form \"A + B = C + D\""
   ]
  },
  {
   "cell_type": "code",
   "execution_count": 3,
   "id": "5b7d47b1-3882-40fd-aa1a-8e3b3163f749",
   "metadata": {},
   "outputs": [
    {
     "name": "stdout",
     "output_type": "stream",
     "text": [
      "\n",
      "Predicted feasibility score with descending MW model: 0.928\n",
      "Predicted label with descending MW model: 1\n",
      "\n",
      "Predicted feasibility score with ascending MW model: 0.983\n",
      "Predicted label with ascending MW model: 1\n",
      "\n",
      "Predicted feasibility score with add concat model: 0.793\n",
      "Predicted label with add concat model: 1\n",
      "\n",
      "Predicted feasibility score with add subtract model: 0.936\n",
      "Predict label with add subtract model: 1\n",
      "\n"
     ]
    }
   ],
   "source": [
    "rxn_str = \"OC(C(C)=O)=O + O=C=O + NC(=O)C1=CN(C2OC(COP(=O)(O)OP(=O)(O)OCC3OC(n4cnc5c(N)ncnc54)C(O)C3O)C(O)C2O)C=CC1 = NC(=O)c1ccc[n+](C2OC(COP(=O)(O)OP(=O)(O)OCC3OC(n4cnc5c(N)ncnc54)C(O)C3O)C(O)C2O)c1 + OC(C(O)CC(O)=O)=O\"\n",
    "\n",
    "# Predict feasibility score and label with model that creates reaction fingerprints in descending MW\n",
    "print(f'\\nPredicted feasibility score with descending MW model: {by_desc_MW_model.predict_proba(rxn_str):.3f}')\n",
    "print(f'Predicted label with descending MW model: {by_desc_MW_model.predict_label(rxn_str)}')\n",
    "\n",
    "# Predict feasibility score and label with model that creates reaction fingerprints in ascending MW\n",
    "print(f'\\nPredicted feasibility score with ascending MW model: {by_asc_MW_model.predict_proba(rxn_str):.3f}')\n",
    "print(f'Predicted label with ascending MW model: {by_asc_MW_model.predict_label(rxn_str)}')\n",
    "\n",
    "# Predict feasibility score and label with model that creates reaction fingerprints with the \"add then concatenate\" configuration\n",
    "print(f'\\nPredicted feasibility score with add concat model: {add_concat_model.predict_proba(rxn_str):.3f}')\n",
    "print(f'Predicted label with add concat model: {add_concat_model.predict_label(rxn_str)}')\n",
    "\n",
    "# Predict feasibility score and label that creates reaction fingerprints with the \"add then subtract\" configuration\n",
    "print(f'\\nPredicted feasibility score with add subtract model: {add_subtract_model.predict_proba(rxn_str):.3f}')\n",
    "print(f'Predict label with add subtract model: {add_subtract_model.predict_label(rxn_str)}')\n",
    "print('')"
   ]
  },
  {
   "cell_type": "markdown",
   "id": "f6fa2f71-ff1d-476c-a603-1a7d35a1c5e3",
   "metadata": {},
   "source": [
    "This reaction string can also be formatted in the form \"A.B>>C.D\""
   ]
  },
  {
   "cell_type": "code",
   "execution_count": 4,
   "id": "543ff68d-5f41-4205-a210-468c656fe5c6",
   "metadata": {},
   "outputs": [
    {
     "name": "stdout",
     "output_type": "stream",
     "text": [
      "\n",
      "Predicted feasibility score with descending MW model: 0.928\n",
      "Predicted label with descending MW model: 1\n",
      "\n",
      "Predicted feasibility score with ascending MW model: 0.983\n",
      "Predicted label with ascending MW model: 1\n",
      "\n",
      "Predicted feasibility score with add concat model: 0.793\n",
      "Predicted label with add concat model: 1\n",
      "\n",
      "Predicted feasibility score with add subtract model: 0.936\n",
      "Predict label with add subtract model: 1\n",
      "\n"
     ]
    }
   ],
   "source": [
    "rxn_str = \"OC(C(C)=O)=O.O=C=O.NC(=O)C1=CN(C2OC(COP(=O)(O)OP(=O)(O)OCC3OC(n4cnc5c(N)ncnc54)C(O)C3O)C(O)C2O)C=CC1>>NC(=O)c1ccc[n+](C2OC(COP(=O)(O)OP(=O)(O)OCC3OC(n4cnc5c(N)ncnc54)C(O)C3O)C(O)C2O)c1.OC(C(O)CC(O)=O)=O\"\n",
    "\n",
    "# Predict feasibility score and label with model that creates reaction fingerprints in descending MW\n",
    "print(f'\\nPredicted feasibility score with descending MW model: {by_desc_MW_model.predict_proba(rxn_str):.3f}')\n",
    "print(f'Predicted label with descending MW model: {by_desc_MW_model.predict_label(rxn_str)}')\n",
    "\n",
    "# Predict feasibility score and label with model that creates reaction fingerprints in ascending MW\n",
    "print(f'\\nPredicted feasibility score with ascending MW model: {by_asc_MW_model.predict_proba(rxn_str):.3f}')\n",
    "print(f'Predicted label with ascending MW model: {by_asc_MW_model.predict_label(rxn_str)}')\n",
    "\n",
    "# Predict feasibility score and label with model that creates reaction fingerprints with the \"add then concatenate\" configuration\n",
    "print(f'\\nPredicted feasibility score with add concat model: {add_concat_model.predict_proba(rxn_str):.3f}')\n",
    "print(f'Predicted label with add concat model: {add_concat_model.predict_label(rxn_str)}')\n",
    "\n",
    "# Predict feasibility score and label that creates reaction fingerprints with the \"add then subtract\" configuration\n",
    "print(f'\\nPredicted feasibility score with add subtract model: {add_subtract_model.predict_proba(rxn_str):.3f}')\n",
    "print(f'Predict label with add subtract model: {add_subtract_model.predict_label(rxn_str)}')\n",
    "print('')"
   ]
  },
  {
   "cell_type": "markdown",
   "id": "03de9c77-350d-41b7-907c-abcd71eb530b",
   "metadata": {},
   "source": [
    "#### Pyruvic acid to Lactic acid (r2)"
   ]
  },
  {
   "cell_type": "markdown",
   "id": "11511d86-5341-435e-8c7a-f6cdb8370b40",
   "metadata": {},
   "source": [
    "Pyruvic acid + NADH >> Lactic acid + NAD(+)"
   ]
  },
  {
   "cell_type": "code",
   "execution_count": 5,
   "id": "94811266-6d22-49e6-b2d1-6d6ae88e55ab",
   "metadata": {},
   "outputs": [
    {
     "name": "stdout",
     "output_type": "stream",
     "text": [
      "\n",
      "Predicted feasibility score with descending MW model: 0.994\n",
      "Predicted label with descending MW model: 1\n",
      "\n",
      "Predicted feasibility score with ascending MW model: 0.997\n",
      "Predicted label with ascending MW model: 1\n",
      "\n",
      "Predicted feasibility score with add concat model: 0.994\n",
      "Predicted label with add concat model: 1\n",
      "\n",
      "Predicted feasibility score with add subtract model: 0.995\n",
      "Predict label with add subtract model: 1\n",
      "\n"
     ]
    }
   ],
   "source": [
    "rxn_str = \"OC(C(C)=O)=O + NC(=O)C1=CN(C2OC(COP(=O)(O)OP(=O)(O)OCC3OC(n4cnc5c(N)ncnc54)C(O)C3O)C(O)C2O)C=CC1 = NC(=O)c1ccc[n+](C2OC(COP(=O)(O)OP(=O)(O)OCC3OC(n4cnc5c(N)ncnc54)C(O)C3O)C(O)C2O)c1 + O=C(O)C(C)O\"\n",
    "\n",
    "# Predict feasibility score and label with model that creates reaction fingerprints in descending MW\n",
    "print(f'\\nPredicted feasibility score with descending MW model: {by_desc_MW_model.predict_proba(rxn_str):.3f}')\n",
    "print(f'Predicted label with descending MW model: {by_desc_MW_model.predict_label(rxn_str)}')\n",
    "\n",
    "# Predict feasibility score and label with model that creates reaction fingerprints in ascending MW\n",
    "print(f'\\nPredicted feasibility score with ascending MW model: {by_asc_MW_model.predict_proba(rxn_str):.3f}')\n",
    "print(f'Predicted label with ascending MW model: {by_asc_MW_model.predict_label(rxn_str)}')\n",
    "\n",
    "# Predict feasibility score and label with model that creates reaction fingerprints with the \"add then concatenate\" configuration\n",
    "print(f'\\nPredicted feasibility score with add concat model: {add_concat_model.predict_proba(rxn_str):.3f}')\n",
    "print(f'Predicted label with add concat model: {add_concat_model.predict_label(rxn_str)}')\n",
    "\n",
    "# Predict feasibility score and label that creates reaction fingerprints with the \"add then subtract\" configuration\n",
    "print(f'\\nPredicted feasibility score with add subtract model: {add_subtract_model.predict_proba(rxn_str):.3f}')\n",
    "print(f'Predict label with add subtract model: {add_subtract_model.predict_label(rxn_str)}')\n",
    "print('')"
   ]
  },
  {
   "cell_type": "markdown",
   "id": "3787afff-c789-4cf9-9f52-80329084d23a",
   "metadata": {},
   "source": [
    "#### Pyruvic acid to Acetyldehyde (r3)"
   ]
  },
  {
   "cell_type": "markdown",
   "id": "e41a30a3-f5ac-45fd-b2f1-02d5710fdf33",
   "metadata": {},
   "source": [
    "Pyruvic acid >> Acetyldehyde + CO2"
   ]
  },
  {
   "cell_type": "code",
   "execution_count": 6,
   "id": "0834d3ef-f291-45a7-b695-0029d367758e",
   "metadata": {},
   "outputs": [
    {
     "name": "stdout",
     "output_type": "stream",
     "text": [
      "\n",
      "Predicted feasibility score with descending MW model: 0.997\n",
      "Predicted label with descending MW model: 1\n",
      "\n",
      "Predicted feasibility score with ascending MW model: 1.000\n",
      "Predicted label with ascending MW model: 1\n",
      "\n",
      "Predicted feasibility score with add concat model: 0.996\n",
      "Predicted label with add concat model: 1\n",
      "\n",
      "Predicted feasibility score with add subtract model: 0.992\n",
      "Predict label with add subtract model: 1\n",
      "\n"
     ]
    }
   ],
   "source": [
    "rxn_str = \"OC(C(C)=O)=O = CC=O + O=C=O\"\n",
    "\n",
    "# Predict feasibility score and label with model that creates reaction fingerprints in descending MW\n",
    "print(f'\\nPredicted feasibility score with descending MW model: {by_desc_MW_model.predict_proba(rxn_str):.3f}')\n",
    "print(f'Predicted label with descending MW model: {by_desc_MW_model.predict_label(rxn_str)}')\n",
    "\n",
    "# Predict feasibility score and label with model that creates reaction fingerprints in ascending MW\n",
    "print(f'\\nPredicted feasibility score with ascending MW model: {by_asc_MW_model.predict_proba(rxn_str):.3f}')\n",
    "print(f'Predicted label with ascending MW model: {by_asc_MW_model.predict_label(rxn_str)}')\n",
    "\n",
    "# Predict feasibility score and label with model that creates reaction fingerprints with the \"add then concatenate\" configuration\n",
    "print(f'\\nPredicted feasibility score with add concat model: {add_concat_model.predict_proba(rxn_str):.3f}')\n",
    "print(f'Predicted label with add concat model: {add_concat_model.predict_label(rxn_str)}')\n",
    "\n",
    "# Predict feasibility score and label that creates reaction fingerprints with the \"add then subtract\" configuration\n",
    "print(f'\\nPredicted feasibility score with add subtract model: {add_subtract_model.predict_proba(rxn_str):.3f}')\n",
    "print(f'Predict label with add subtract model: {add_subtract_model.predict_label(rxn_str)}')\n",
    "print('')"
   ]
  },
  {
   "cell_type": "markdown",
   "id": "bc6079cb-e2d5-4694-b2d7-0dbd63f84ede",
   "metadata": {},
   "source": [
    "#### Pyruvic acid to Alanine (r4)"
   ]
  },
  {
   "cell_type": "markdown",
   "id": "ced5a5b0-e86d-4542-b531-236d9feb7718",
   "metadata": {},
   "source": [
    "Pyruvic acid + NH3 + NADH >> Alanine + H2O + NAD(+)"
   ]
  },
  {
   "cell_type": "code",
   "execution_count": 7,
   "id": "0d0c1029-3d1d-4636-ae13-fee203d33372",
   "metadata": {},
   "outputs": [
    {
     "name": "stdout",
     "output_type": "stream",
     "text": [
      "\n",
      "Predicted feasibility score with descending MW model: 0.919\n",
      "Predicted label with descending MW model: 1\n",
      "\n",
      "Predicted feasibility score with ascending MW model: 0.989\n",
      "Predicted label with ascending MW model: 1\n",
      "\n",
      "Predicted feasibility score with add concat model: 0.989\n",
      "Predicted label with add concat model: 1\n",
      "\n",
      "Predicted feasibility score with add subtract model: 0.994\n",
      "Predict label with add subtract model: 1\n",
      "\n"
     ]
    }
   ],
   "source": [
    "rxn_str = \"OC(C(C)=O)=O + N + NC(=O)C1=CN(C2OC(COP(=O)(O)OP(=O)(O)OCC3OC(n4cnc5c(N)ncnc54)C(O)C3O)C(O)C2O)C=CC1 = O + NC(=O)c1ccc[n+](C2OC(COP(=O)(O)OP(=O)(O)OCC3OC(n4cnc5c(N)ncnc54)C(O)C3O)C(O)C2O)c1 + O=C(O)C(C)N\"\n",
    "\n",
    "# Predict feasibility score and label with model that creates reaction fingerprints in descending MW\n",
    "print(f'\\nPredicted feasibility score with descending MW model: {by_desc_MW_model.predict_proba(rxn_str):.3f}')\n",
    "print(f'Predicted label with descending MW model: {by_desc_MW_model.predict_label(rxn_str)}')\n",
    "\n",
    "# Predict feasibility score and label with model that creates reaction fingerprints in ascending MW\n",
    "print(f'\\nPredicted feasibility score with ascending MW model: {by_asc_MW_model.predict_proba(rxn_str):.3f}')\n",
    "print(f'Predicted label with ascending MW model: {by_asc_MW_model.predict_label(rxn_str)}')\n",
    "\n",
    "# Predict feasibility score and label with model that creates reaction fingerprints with the \"add then concatenate\" configuration\n",
    "print(f'\\nPredicted feasibility score with add concat model: {add_concat_model.predict_proba(rxn_str):.3f}')\n",
    "print(f'Predicted label with add concat model: {add_concat_model.predict_label(rxn_str)}')\n",
    "\n",
    "# Predict feasibility score and label that creates reaction fingerprints with the \"add then subtract\" configuration\n",
    "print(f'\\nPredicted feasibility score with add subtract model: {add_subtract_model.predict_proba(rxn_str):.3f}')\n",
    "print(f'Predict label with add subtract model: {add_subtract_model.predict_label(rxn_str)}')\n",
    "print('')"
   ]
  },
  {
   "cell_type": "markdown",
   "id": "e486f5e2-e072-45e7-b6d2-d065a051d547",
   "metadata": {},
   "source": [
    "#### Malic acid to fumaric acid (r5)"
   ]
  },
  {
   "cell_type": "markdown",
   "id": "8c2cd632-a48d-48e6-a6fd-ce0464f2129f",
   "metadata": {},
   "source": [
    "Malic acid >> Fumaric acid + H2O"
   ]
  },
  {
   "cell_type": "code",
   "execution_count": 8,
   "id": "9aa0b8f5-acc0-41e5-b4c5-212b13f1cb4d",
   "metadata": {},
   "outputs": [
    {
     "name": "stdout",
     "output_type": "stream",
     "text": [
      "\n",
      "Predicted feasibility score with descending MW model: 0.936\n",
      "Predicted label with descending MW model: 1\n",
      "\n",
      "Predicted feasibility score with ascending MW model: 0.927\n",
      "Predicted label with ascending MW model: 1\n",
      "\n",
      "Predicted feasibility score with add concat model: 0.867\n",
      "Predicted label with add concat model: 1\n",
      "\n",
      "Predicted feasibility score with add subtract model: 0.900\n",
      "Predict label with add subtract model: 1\n",
      "\n"
     ]
    }
   ],
   "source": [
    "rxn_str = \"OC(C(CC(O)=O)O)=O = O + OC(C=CC(O)=O)=O\"\n",
    "\n",
    "# Predict feasibility score and label with model that creates reaction fingerprints in descending MW\n",
    "print(f'\\nPredicted feasibility score with descending MW model: {by_desc_MW_model.predict_proba(rxn_str):.3f}')\n",
    "print(f'Predicted label with descending MW model: {by_desc_MW_model.predict_label(rxn_str)}')\n",
    "\n",
    "# Predict feasibility score and label with model that creates reaction fingerprints in ascending MW\n",
    "print(f'\\nPredicted feasibility score with ascending MW model: {by_asc_MW_model.predict_proba(rxn_str):.3f}')\n",
    "print(f'Predicted label with ascending MW model: {by_asc_MW_model.predict_label(rxn_str)}')\n",
    "\n",
    "# Predict feasibility score and label with model that creates reaction fingerprints with the \"add then concatenate\" configuration\n",
    "print(f'\\nPredicted feasibility score with add concat model: {add_concat_model.predict_proba(rxn_str):.3f}')\n",
    "print(f'Predicted label with add concat model: {add_concat_model.predict_label(rxn_str)}')\n",
    "\n",
    "# Predict feasibility score and label that creates reaction fingerprints with the \"add then subtract\" configuration\n",
    "print(f'\\nPredicted feasibility score with add subtract model: {add_subtract_model.predict_proba(rxn_str):.3f}')\n",
    "print(f'Predict label with add subtract model: {add_subtract_model.predict_label(rxn_str)}')\n",
    "print('')"
   ]
  },
  {
   "cell_type": "markdown",
   "id": "9770950d-7525-4ed9-bbfa-5ff10e6b07a8",
   "metadata": {},
   "source": [
    "#### Malic acid to 3-hydroxypyruvic acid (r6)"
   ]
  },
  {
   "cell_type": "markdown",
   "id": "20a5a9a6-3b1f-4b2c-a9c0-8c598682e34d",
   "metadata": {},
   "source": [
    "Malic acid >> 3-hydroxypyruvic acid + CO2"
   ]
  },
  {
   "cell_type": "code",
   "execution_count": 9,
   "id": "bfeea480-cf7d-4923-b754-af88abb236d7",
   "metadata": {},
   "outputs": [
    {
     "name": "stdout",
     "output_type": "stream",
     "text": [
      "\n",
      "Predicted feasibility score with descending MW model: 0.837\n",
      "Predicted label with descending MW model: 1\n",
      "\n",
      "Predicted feasibility score with ascending MW model: 0.341\n",
      "Predicted label with ascending MW model: 0\n",
      "\n",
      "Predicted feasibility score with add concat model: 0.492\n",
      "Predicted label with add concat model: 0\n",
      "\n",
      "Predicted feasibility score with add subtract model: 0.156\n",
      "Predict label with add subtract model: 0\n",
      "\n"
     ]
    }
   ],
   "source": [
    "rxn_str = \"OC(C(CC(O)=O)O)=O = O=C=O + OCCC(O)=O\"\n",
    "\n",
    "# Predict feasibility score and label with model that creates reaction fingerprints in descending MW\n",
    "print(f'\\nPredicted feasibility score with descending MW model: {by_desc_MW_model.predict_proba(rxn_str):.3f}')\n",
    "print(f'Predicted label with descending MW model: {by_desc_MW_model.predict_label(rxn_str)}')\n",
    "\n",
    "# Predict feasibility score and label with model that creates reaction fingerprints in ascending MW\n",
    "print(f'\\nPredicted feasibility score with ascending MW model: {by_asc_MW_model.predict_proba(rxn_str):.3f}')\n",
    "print(f'Predicted label with ascending MW model: {by_asc_MW_model.predict_label(rxn_str)}')\n",
    "\n",
    "# Predict feasibility score and label with model that creates reaction fingerprints with the \"add then concatenate\" configuration\n",
    "print(f'\\nPredicted feasibility score with add concat model: {add_concat_model.predict_proba(rxn_str):.3f}')\n",
    "print(f'Predicted label with add concat model: {add_concat_model.predict_label(rxn_str)}')\n",
    "\n",
    "# Predict feasibility score and label that creates reaction fingerprints with the \"add then subtract\" configuration\n",
    "print(f'\\nPredicted feasibility score with add subtract model: {add_subtract_model.predict_proba(rxn_str):.3f}')\n",
    "print(f'Predict label with add subtract model: {add_subtract_model.predict_label(rxn_str)}')\n",
    "print('')"
   ]
  },
  {
   "cell_type": "markdown",
   "id": "63cd9558-c4c3-4498-94c3-78870c494935",
   "metadata": {},
   "source": [
    "#### Lactic acid to 3-hydroxypyruvic acid (r7)"
   ]
  },
  {
   "cell_type": "markdown",
   "id": "b52e7c7a-8908-428d-b0be-b322d29a82e7",
   "metadata": {},
   "source": [
    "Lactic acid >> 3-hydroxypyruvic acid"
   ]
  },
  {
   "cell_type": "code",
   "execution_count": 10,
   "id": "307a184b-36ed-4933-94f7-12417d4940d9",
   "metadata": {},
   "outputs": [
    {
     "name": "stdout",
     "output_type": "stream",
     "text": [
      "\n",
      "Predicted feasibility score with descending MW model: 0.585\n",
      "Predicted label with descending MW model: 1\n",
      "\n",
      "Predicted feasibility score with ascending MW model: 0.416\n",
      "Predicted label with ascending MW model: 0\n",
      "\n",
      "Predicted feasibility score with add concat model: 0.316\n",
      "Predicted label with add concat model: 0\n",
      "\n",
      "Predicted feasibility score with add subtract model: 0.114\n",
      "Predict label with add subtract model: 0\n",
      "\n"
     ]
    }
   ],
   "source": [
    "rxn_str = \"O=C(C(O)C)O = OCCC(O)=O\"\n",
    "\n",
    "# Predict feasibility score and label with model that creates reaction fingerprints in descending MW\n",
    "print(f'\\nPredicted feasibility score with descending MW model: {by_desc_MW_model.predict_proba(rxn_str):.3f}')\n",
    "print(f'Predicted label with descending MW model: {by_desc_MW_model.predict_label(rxn_str)}')\n",
    "\n",
    "# Predict feasibility score and label with model that creates reaction fingerprints in ascending MW\n",
    "print(f'\\nPredicted feasibility score with ascending MW model: {by_asc_MW_model.predict_proba(rxn_str):.3f}')\n",
    "print(f'Predicted label with ascending MW model: {by_asc_MW_model.predict_label(rxn_str)}')\n",
    "\n",
    "# Predict feasibility score and label with model that creates reaction fingerprints with the \"add then concatenate\" configuration\n",
    "print(f'\\nPredicted feasibility score with add concat model: {add_concat_model.predict_proba(rxn_str):.3f}')\n",
    "print(f'Predicted label with add concat model: {add_concat_model.predict_label(rxn_str)}')\n",
    "\n",
    "# Predict feasibility score and label that creates reaction fingerprints with the \"add then subtract\" configuration\n",
    "print(f'\\nPredicted feasibility score with add subtract model: {add_subtract_model.predict_proba(rxn_str):.3f}')\n",
    "print(f'Predict label with add subtract model: {add_subtract_model.predict_label(rxn_str)}')\n",
    "print('')"
   ]
  },
  {
   "cell_type": "markdown",
   "id": "f5d668d7-165a-49b7-90cb-c38ba1b6dccd",
   "metadata": {},
   "source": [
    "#### Acetaldehyde to 3-hydroxypyruvic acid (r8)"
   ]
  },
  {
   "cell_type": "markdown",
   "id": "04e24c8b-ea77-4d52-be85-82b115947f6b",
   "metadata": {},
   "source": [
    "Acetaldehyde + NADH + CO2 >> 3-hydroxypyruvic acid + NAD(+)"
   ]
  },
  {
   "cell_type": "code",
   "execution_count": 11,
   "id": "0ef57118-e24e-4371-ac35-125913f2eb4d",
   "metadata": {},
   "outputs": [
    {
     "name": "stdout",
     "output_type": "stream",
     "text": [
      "\n",
      "Predicted feasibility score with descending MW model: 0.976\n",
      "Predicted label with descending MW model: 1\n",
      "\n",
      "Predicted feasibility score with ascending MW model: 0.053\n",
      "Predicted label with ascending MW model: 0\n",
      "\n",
      "Predicted feasibility score with add concat model: 0.904\n",
      "Predicted label with add concat model: 1\n",
      "\n",
      "Predicted feasibility score with add subtract model: 0.496\n",
      "Predict label with add subtract model: 0\n",
      "\n"
     ]
    }
   ],
   "source": [
    "rxn_str = \"O=C=O + CC=O + NC(=O)C1=CN(C2OC(COP(=O)(O)OP(=O)(O)OCC3OC(n4cnc5c(N)ncnc54)C(O)C3O)C(O)C2O)C=CC1 = NC(=O)c1ccc[n+](C2OC(COP(=O)(O)OP(=O)(O)OCC3OC(n4cnc5c(N)ncnc54)C(O)C3O)C(O)C2O)c1 + OCCC(O)=O\"\n",
    "\n",
    "# Predict feasibility score and label with model that creates reaction fingerprints in descending MW\n",
    "print(f'\\nPredicted feasibility score with descending MW model: {by_desc_MW_model.predict_proba(rxn_str):.3f}')\n",
    "print(f'Predicted label with descending MW model: {by_desc_MW_model.predict_label(rxn_str)}')\n",
    "\n",
    "# Predict feasibility score and label with model that creates reaction fingerprints in ascending MW\n",
    "print(f'\\nPredicted feasibility score with ascending MW model: {by_asc_MW_model.predict_proba(rxn_str):.3f}')\n",
    "print(f'Predicted label with ascending MW model: {by_asc_MW_model.predict_label(rxn_str)}')\n",
    "\n",
    "# Predict feasibility score and label with model that creates reaction fingerprints with the \"add then concatenate\" configuration\n",
    "print(f'\\nPredicted feasibility score with add concat model: {add_concat_model.predict_proba(rxn_str):.3f}')\n",
    "print(f'Predicted label with add concat model: {add_concat_model.predict_label(rxn_str)}')\n",
    "\n",
    "# Predict feasibility score and label that creates reaction fingerprints with the \"add then subtract\" configuration\n",
    "print(f'\\nPredicted feasibility score with add subtract model: {add_subtract_model.predict_proba(rxn_str):.3f}')\n",
    "print(f'Predict label with add subtract model: {add_subtract_model.predict_label(rxn_str)}')\n",
    "print('')"
   ]
  },
  {
   "cell_type": "markdown",
   "id": "2ecbe9b3-9e2f-4df3-89df-c4388434494f",
   "metadata": {},
   "source": [
    "#### Alanine to beta-alanine (r9)"
   ]
  },
  {
   "cell_type": "markdown",
   "id": "ac99fc39-b045-4995-961b-54e6687bfa38",
   "metadata": {},
   "source": [
    "Alanine >> beta-alanine"
   ]
  },
  {
   "cell_type": "code",
   "execution_count": 12,
   "id": "0c73d5ae-bf14-407f-a379-0a9e1f06bfd5",
   "metadata": {},
   "outputs": [
    {
     "name": "stdout",
     "output_type": "stream",
     "text": [
      "\n",
      "Predicted feasibility score with descending MW model: 0.938\n",
      "Predicted label with descending MW model: 1\n",
      "\n",
      "Predicted feasibility score with ascending MW model: 0.852\n",
      "Predicted label with ascending MW model: 1\n",
      "\n",
      "Predicted feasibility score with add concat model: 0.966\n",
      "Predicted label with add concat model: 1\n",
      "\n",
      "Predicted feasibility score with add subtract model: 0.983\n",
      "Predict label with add subtract model: 1\n",
      "\n"
     ]
    }
   ],
   "source": [
    "rxn_str = \"O=C(O)C(C)N = O=C(CCN)O\"\n",
    "\n",
    "# Predict feasibility score and label with model that creates reaction fingerprints in descending MW\n",
    "print(f'\\nPredicted feasibility score with descending MW model: {by_desc_MW_model.predict_proba(rxn_str):.3f}')\n",
    "print(f'Predicted label with descending MW model: {by_desc_MW_model.predict_label(rxn_str)}')\n",
    "\n",
    "# Predict feasibility score and label with model that creates reaction fingerprints in ascending MW\n",
    "print(f'\\nPredicted feasibility score with ascending MW model: {by_asc_MW_model.predict_proba(rxn_str):.3f}')\n",
    "print(f'Predicted label with ascending MW model: {by_asc_MW_model.predict_label(rxn_str)}')\n",
    "\n",
    "# Predict feasibility score and label with model that creates reaction fingerprints with the \"add then concatenate\" configuration\n",
    "print(f'\\nPredicted feasibility score with add concat model: {add_concat_model.predict_proba(rxn_str):.3f}')\n",
    "print(f'Predicted label with add concat model: {add_concat_model.predict_label(rxn_str)}')\n",
    "\n",
    "# Predict feasibility score and label that creates reaction fingerprints with the \"add then subtract\" configuration\n",
    "print(f'\\nPredicted feasibility score with add subtract model: {add_subtract_model.predict_proba(rxn_str):.3f}')\n",
    "print(f'Predict label with add subtract model: {add_subtract_model.predict_label(rxn_str)}')\n",
    "print('')"
   ]
  },
  {
   "cell_type": "markdown",
   "id": "94c7095d-5029-44c2-ac1e-e91dc38fba59",
   "metadata": {},
   "source": [
    "#### Fumaric acid to acrylic acid (r10)"
   ]
  },
  {
   "cell_type": "markdown",
   "id": "202e5788-6b71-4fbd-95b7-26e8b24bfbb0",
   "metadata": {},
   "source": [
    "Fumaric acid >> acrylic acid + CO2"
   ]
  },
  {
   "cell_type": "code",
   "execution_count": 13,
   "id": "37f08190-cae7-4f96-ba1d-c2562807b66c",
   "metadata": {},
   "outputs": [
    {
     "name": "stdout",
     "output_type": "stream",
     "text": [
      "\n",
      "Predicted feasibility score with descending MW model: 0.995\n",
      "Predicted label with descending MW model: 1\n",
      "\n",
      "Predicted feasibility score with ascending MW model: 0.997\n",
      "Predicted label with ascending MW model: 1\n",
      "\n",
      "Predicted feasibility score with add concat model: 0.954\n",
      "Predicted label with add concat model: 1\n",
      "\n",
      "Predicted feasibility score with add subtract model: 0.967\n",
      "Predict label with add subtract model: 1\n",
      "\n"
     ]
    }
   ],
   "source": [
    "rxn_str = \"OC(C=CC(O)=O)=O = O=C=O + C=CC(O)=O\"\n",
    "\n",
    "# Predict feasibility score and label with model that creates reaction fingerprints in descending MW\n",
    "print(f'\\nPredicted feasibility score with descending MW model: {by_desc_MW_model.predict_proba(rxn_str):.3f}')\n",
    "print(f'Predicted label with descending MW model: {by_desc_MW_model.predict_label(rxn_str)}')\n",
    "\n",
    "# Predict feasibility score and label with model that creates reaction fingerprints in ascending MW\n",
    "print(f'\\nPredicted feasibility score with ascending MW model: {by_asc_MW_model.predict_proba(rxn_str):.3f}')\n",
    "print(f'Predicted label with ascending MW model: {by_asc_MW_model.predict_label(rxn_str)}')\n",
    "\n",
    "# Predict feasibility score and label with model that creates reaction fingerprints with the \"add then concatenate\" configuration\n",
    "print(f'\\nPredicted feasibility score with add concat model: {add_concat_model.predict_proba(rxn_str):.3f}')\n",
    "print(f'Predicted label with add concat model: {add_concat_model.predict_label(rxn_str)}')\n",
    "\n",
    "# Predict feasibility score and label that creates reaction fingerprints with the \"add then subtract\" configuration\n",
    "print(f'\\nPredicted feasibility score with add subtract model: {add_subtract_model.predict_proba(rxn_str):.3f}')\n",
    "print(f'Predict label with add subtract model: {add_subtract_model.predict_label(rxn_str)}')\n",
    "print('')"
   ]
  },
  {
   "cell_type": "markdown",
   "id": "e5f088d8-4a16-4950-bdd1-895a2b6b2fa1",
   "metadata": {},
   "source": [
    "#### 3-Hydroxypyruvic acid to acrylic acid (r11)"
   ]
  },
  {
   "cell_type": "markdown",
   "id": "eef8b713-9acd-4ea3-b498-36bf7824ff2f",
   "metadata": {},
   "source": [
    "3-hydroxypyruvic acid >> acrylic acid + H2O"
   ]
  },
  {
   "cell_type": "code",
   "execution_count": 14,
   "id": "b7374aa0-e935-41f6-b3f4-a2bcd9c5edce",
   "metadata": {},
   "outputs": [
    {
     "name": "stdout",
     "output_type": "stream",
     "text": [
      "\n",
      "Predicted feasibility score with descending MW model: 0.973\n",
      "Predicted label with descending MW model: 1\n",
      "\n",
      "Predicted feasibility score with ascending MW model: 0.964\n",
      "Predicted label with ascending MW model: 1\n",
      "\n",
      "Predicted feasibility score with add concat model: 0.968\n",
      "Predicted label with add concat model: 1\n",
      "\n",
      "Predicted feasibility score with add subtract model: 0.913\n",
      "Predict label with add subtract model: 1\n",
      "\n"
     ]
    }
   ],
   "source": [
    "rxn_str = \"OCCC(O)=O = O + C=CC(O)=O\"\n",
    "\n",
    "# Predict feasibility score and label with model that creates reaction fingerprints in descending MW\n",
    "print(f'\\nPredicted feasibility score with descending MW model: {by_desc_MW_model.predict_proba(rxn_str):.3f}')\n",
    "print(f'Predicted label with descending MW model: {by_desc_MW_model.predict_label(rxn_str)}')\n",
    "\n",
    "# Predict feasibility score and label with model that creates reaction fingerprints in ascending MW\n",
    "print(f'\\nPredicted feasibility score with ascending MW model: {by_asc_MW_model.predict_proba(rxn_str):.3f}')\n",
    "print(f'Predicted label with ascending MW model: {by_asc_MW_model.predict_label(rxn_str)}')\n",
    "\n",
    "# Predict feasibility score and label with model that creates reaction fingerprints with the \"add then concatenate\" configuration\n",
    "print(f'\\nPredicted feasibility score with add concat model: {add_concat_model.predict_proba(rxn_str):.3f}')\n",
    "print(f'Predicted label with add concat model: {add_concat_model.predict_label(rxn_str)}')\n",
    "\n",
    "# Predict feasibility score and label that creates reaction fingerprints with the \"add then subtract\" configuration\n",
    "print(f'\\nPredicted feasibility score with add subtract model: {add_subtract_model.predict_proba(rxn_str):.3f}')\n",
    "print(f'Predict label with add subtract model: {add_subtract_model.predict_label(rxn_str)}')\n",
    "print('')"
   ]
  },
  {
   "cell_type": "markdown",
   "id": "34d2d4a1-b816-41ff-b7ab-1b744ad16840",
   "metadata": {},
   "source": [
    "#### beta alanine to acrylic acid (r12)"
   ]
  },
  {
   "cell_type": "markdown",
   "id": "2c50676b-4987-4c88-9ea0-90c2f24ed423",
   "metadata": {},
   "source": [
    "beta alanine >> acrylic acid + NH3"
   ]
  },
  {
   "cell_type": "code",
   "execution_count": 15,
   "id": "fb3d931a-d516-473c-afa1-055e00bf17e0",
   "metadata": {},
   "outputs": [
    {
     "name": "stdout",
     "output_type": "stream",
     "text": [
      "\n",
      "Predicted feasibility score with descending MW model: 0.956\n",
      "Predicted label with descending MW model: 1\n",
      "\n",
      "Predicted feasibility score with ascending MW model: 0.851\n",
      "Predicted label with ascending MW model: 1\n",
      "\n",
      "Predicted feasibility score with add concat model: 0.887\n",
      "Predicted label with add concat model: 1\n",
      "\n",
      "Predicted feasibility score with add subtract model: 0.916\n",
      "Predict label with add subtract model: 1\n",
      "\n"
     ]
    }
   ],
   "source": [
    "rxn_str = \"O=C(CCN)O = C=CC(O)=O + N\"\n",
    "\n",
    "# Predict feasibility score and label with model that creates reaction fingerprints in descending MW\n",
    "print(f'\\nPredicted feasibility score with descending MW model: {by_desc_MW_model.predict_proba(rxn_str):.3f}')\n",
    "print(f'Predicted label with descending MW model: {by_desc_MW_model.predict_label(rxn_str)}')\n",
    "\n",
    "# Predict feasibility score and label with model that creates reaction fingerprints in ascending MW\n",
    "print(f'\\nPredicted feasibility score with ascending MW model: {by_asc_MW_model.predict_proba(rxn_str):.3f}')\n",
    "print(f'Predicted label with ascending MW model: {by_asc_MW_model.predict_label(rxn_str)}')\n",
    "\n",
    "# Predict feasibility score and label with model that creates reaction fingerprints with the \"add then concatenate\" configuration\n",
    "print(f'\\nPredicted feasibility score with add concat model: {add_concat_model.predict_proba(rxn_str):.3f}')\n",
    "print(f'Predicted label with add concat model: {add_concat_model.predict_label(rxn_str)}')\n",
    "\n",
    "# Predict feasibility score and label that creates reaction fingerprints with the \"add then subtract\" configuration\n",
    "print(f'\\nPredicted feasibility score with add subtract model: {add_subtract_model.predict_proba(rxn_str):.3f}')\n",
    "print(f'Predict label with add subtract model: {add_subtract_model.predict_label(rxn_str)}')\n",
    "print('')"
   ]
  },
  {
   "cell_type": "markdown",
   "id": "33f478f0-5b2e-4155-8845-6c283ef2a48e",
   "metadata": {},
   "source": [
    "#### Acrylic acid to propionic acid (r13)"
   ]
  },
  {
   "cell_type": "markdown",
   "id": "b729cb1e-b53d-445e-93a4-4d6f0afafbac",
   "metadata": {},
   "source": [
    "Acrylic acid + NADH >> propionic acid + NAD(+)"
   ]
  },
  {
   "cell_type": "code",
   "execution_count": 16,
   "id": "99013f8a-ae45-459f-b1a2-16ca9e4b3c19",
   "metadata": {},
   "outputs": [
    {
     "name": "stdout",
     "output_type": "stream",
     "text": [
      "\n",
      "Predicted feasibility score with descending MW model: 0.990\n",
      "Predicted label with descending MW model: 1\n",
      "\n",
      "Predicted feasibility score with ascending MW model: 0.998\n",
      "Predicted label with ascending MW model: 1\n",
      "\n",
      "Predicted feasibility score with add concat model: 0.980\n",
      "Predicted label with add concat model: 1\n",
      "\n",
      "Predicted feasibility score with add subtract model: 0.993\n",
      "Predict label with add subtract model: 1\n",
      "\n"
     ]
    }
   ],
   "source": [
    "rxn_str = \"C=CC(O)=O + NC(=O)C1=CN(C2OC(COP(=O)(O)OP(=O)(O)OCC3OC(n4cnc5c(N)ncnc54)C(O)C3O)C(O)C2O)C=CC1 = NC(=O)c1ccc[n+](C2OC(COP(=O)(O)OP(=O)(O)OCC3OC(n4cnc5c(N)ncnc54)C(O)C3O)C(O)C2O)c1 + CCC(O)=O\"\n",
    "\n",
    "# Predict feasibility score and label with model that creates reaction fingerprints in descending MW\n",
    "print(f'\\nPredicted feasibility score with descending MW model: {by_desc_MW_model.predict_proba(rxn_str):.3f}')\n",
    "print(f'Predicted label with descending MW model: {by_desc_MW_model.predict_label(rxn_str)}')\n",
    "\n",
    "# Predict feasibility score and label with model that creates reaction fingerprints in ascending MW\n",
    "print(f'\\nPredicted feasibility score with ascending MW model: {by_asc_MW_model.predict_proba(rxn_str):.3f}')\n",
    "print(f'Predicted label with ascending MW model: {by_asc_MW_model.predict_label(rxn_str)}')\n",
    "\n",
    "# Predict feasibility score and label with model that creates reaction fingerprints with the \"add then concatenate\" configuration\n",
    "print(f'\\nPredicted feasibility score with add concat model: {add_concat_model.predict_proba(rxn_str):.3f}')\n",
    "print(f'Predicted label with add concat model: {add_concat_model.predict_label(rxn_str)}')\n",
    "\n",
    "# Predict feasibility score and label that creates reaction fingerprints with the \"add then subtract\" configuration\n",
    "print(f'\\nPredicted feasibility score with add subtract model: {add_subtract_model.predict_proba(rxn_str):.3f}')\n",
    "print(f'Predict label with add subtract model: {add_subtract_model.predict_label(rxn_str)}')\n",
    "print('')"
   ]
  },
  {
   "cell_type": "markdown",
   "id": "ec62620e-3e79-491f-9146-239e98180b49",
   "metadata": {},
   "source": [
    "### <a id=\"section_2\"></a>2. Computing net pathway feasibilities by aggregating reaction feasibilities in a reaction network"
   ]
  },
  {
   "cell_type": "code",
   "execution_count": 17,
   "id": "a07b8ba1-fb68-4f60-85f2-a84a6eed26c1",
   "metadata": {},
   "outputs": [],
   "source": [
    "def product_of_list(numbers):\n",
    "    product = 1.0\n",
    "    for number in numbers:\n",
    "        product *= number\n",
    "    return product"
   ]
  },
  {
   "cell_type": "code",
   "execution_count": 18,
   "id": "c4550ca2-d27a-479f-a38b-5029cab5cb94",
   "metadata": {},
   "outputs": [],
   "source": [
    "# pathway 1 (r1, r5, r10, r13)\n",
    "pathway_1_feasibility_scores_list = [0.793, 0.867, 0.954, 0.980]\n",
    "pathway_1_net_feasibility = product_of_list(pathway_1_feasibility_scores_list)\n",
    "\n",
    "# pathway 2 (r1, r6, r11, r13)\n",
    "pathway_2_feasibility_scores_list = [0.793, 0.492, 0.968, 0.980]\n",
    "pathway_2_net_feasibility = product_of_list(pathway_2_feasibility_scores_list)\n",
    "\n",
    "# pathway 3 (r2, r7, r11, r13)\n",
    "pathway_3_feasibility_scores_list = [0.994, 0.316, 0.968, 0.980]\n",
    "pathway_3_net_feasibility = product_of_list(pathway_3_feasibility_scores_list)\n",
    "\n",
    "# pathway 4 (r3, r8, r11, r13)\n",
    "pathway_4_feasibility_scores_list = [0.996, 0.904, 0.968, 0.980]\n",
    "pathway_4_net_feasibility = product_of_list(pathway_4_feasibility_scores_list)\n",
    "\n",
    "# pathway 5 (r4, r9, r12, r13)\n",
    "pathway_5_feasibility_scores_list = [0.989, 0.966, 0.887, 0.980]\n",
    "pathway_5_net_feasibility = product_of_list(pathway_5_feasibility_scores_list)"
   ]
  },
  {
   "cell_type": "code",
   "execution_count": 19,
   "id": "e174d08e-753d-4854-8e7e-0d968450f5de",
   "metadata": {},
   "outputs": [
    {
     "name": "stdout",
     "output_type": "stream",
     "text": [
      "\n",
      "Net feasibility score of pathway 1: 0.64\n",
      "\n"
     ]
    }
   ],
   "source": [
    "print(f\"\\nNet feasibility score of pathway 1: {pathway_1_net_feasibility:.2f}\")\n",
    "print('')"
   ]
  },
  {
   "cell_type": "code",
   "execution_count": 20,
   "id": "08c21657-16d1-4bde-84d7-05c744353898",
   "metadata": {},
   "outputs": [
    {
     "name": "stdout",
     "output_type": "stream",
     "text": [
      "\n",
      "Net feasibility score of pathway 2: 0.37\n",
      "\n"
     ]
    }
   ],
   "source": [
    "print(f\"\\nNet feasibility score of pathway 2: {pathway_2_net_feasibility:.2f}\")\n",
    "print('')"
   ]
  },
  {
   "cell_type": "code",
   "execution_count": 21,
   "id": "1ac4694f-110a-4e04-9187-30f5c1ba62b1",
   "metadata": {},
   "outputs": [
    {
     "name": "stdout",
     "output_type": "stream",
     "text": [
      "\n",
      "Net feasibility score of pathway 3: 0.30\n",
      "\n"
     ]
    }
   ],
   "source": [
    "print(f\"\\nNet feasibility score of pathway 3: {pathway_3_net_feasibility:.2f}\")\n",
    "print('')"
   ]
  },
  {
   "cell_type": "code",
   "execution_count": 22,
   "id": "0c14d634-004e-4318-b9ce-6c35f71191c3",
   "metadata": {},
   "outputs": [
    {
     "name": "stdout",
     "output_type": "stream",
     "text": [
      "\n",
      "Net feasibility score of pathway 4: 0.85\n",
      "\n"
     ]
    }
   ],
   "source": [
    "print(f\"\\nNet feasibility score of pathway 4: {pathway_4_net_feasibility:.2f}\")\n",
    "print('')"
   ]
  },
  {
   "cell_type": "code",
   "execution_count": 23,
   "id": "c46faec5-d9b0-416d-8fc2-96d501f2dfbf",
   "metadata": {},
   "outputs": [
    {
     "name": "stdout",
     "output_type": "stream",
     "text": [
      "\n",
      "Net feasibility score of pathway 5: 0.83\n",
      "\n"
     ]
    }
   ],
   "source": [
    "print(f\"\\nNet feasibility score of pathway 5: {pathway_5_net_feasibility:.2f}\")\n",
    "print('')"
   ]
  },
  {
   "cell_type": "code",
   "execution_count": null,
   "id": "8091a047-bab8-4cee-a044-ae2aea5ecf5a",
   "metadata": {},
   "outputs": [],
   "source": []
  }
 ],
 "metadata": {
  "kernelspec": {
   "display_name": "DORA_XGB_env",
   "language": "python",
   "name": "dora_xgb_env"
  },
  "language_info": {
   "codemirror_mode": {
    "name": "ipython",
    "version": 3
   },
   "file_extension": ".py",
   "mimetype": "text/x-python",
   "name": "python",
   "nbconvert_exporter": "python",
   "pygments_lexer": "ipython3",
   "version": "3.8.19"
  }
 },
 "nbformat": 4,
 "nbformat_minor": 5
}
